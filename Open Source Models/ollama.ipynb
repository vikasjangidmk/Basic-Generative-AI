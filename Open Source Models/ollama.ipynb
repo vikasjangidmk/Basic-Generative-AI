{
 "cells": [
  {
   "cell_type": "code",
   "execution_count": 1,
   "metadata": {},
   "outputs": [
    {
     "data": {
      "text/plain": [
       "True"
      ]
     },
     "execution_count": 1,
     "metadata": {},
     "output_type": "execute_result"
    }
   ],
   "source": [
    "import os\n",
    "from dotenv import load_dotenv\n",
    "load_dotenv()"
   ]
  },
  {
   "cell_type": "code",
   "execution_count": 2,
   "metadata": {},
   "outputs": [],
   "source": [
    "from langchain_core.prompts import ChatPromptTemplate\n",
    "from langchain_community.llms import Ollama\n",
    "from langchain_core.output_parsers import StrOutputParser"
   ]
  },
  {
   "cell_type": "code",
   "execution_count": 3,
   "metadata": {},
   "outputs": [
    {
     "name": "stderr",
     "output_type": "stream",
     "text": [
      "C:\\Users\\vikas\\AppData\\Local\\Temp\\ipykernel_11404\\242279962.py:1: LangChainDeprecationWarning: The class `Ollama` was deprecated in LangChain 0.3.1 and will be removed in 1.0.0. An updated version of the class exists in the :class:`~langchain-ollama package and should be used instead. To use it run `pip install -U :class:`~langchain-ollama` and import as `from :class:`~langchain_ollama import OllamaLLM``.\n",
      "  llm = Ollama(model = \"gemma:2b\")\n"
     ]
    }
   ],
   "source": [
    "llm = Ollama(model = \"gemma:2b\")"
   ]
  },
  {
   "cell_type": "code",
   "execution_count": 4,
   "metadata": {},
   "outputs": [],
   "source": [
    "prompt = ChatPromptTemplate.from_messages(\n",
    "    [\n",
    "        (\"system\",\"You are a helpful assistant. Please response to the user request only based on the given contect\"),\n",
    "        (\"user\",\"Question:{question}\\nContext:{context}\")\n",
    "    ]\n",
    ")"
   ]
  },
  {
   "cell_type": "code",
   "execution_count": 5,
   "metadata": {},
   "outputs": [],
   "source": [
    "output_parser = StrOutputParser()"
   ]
  },
  {
   "cell_type": "code",
   "execution_count": 6,
   "metadata": {},
   "outputs": [],
   "source": [
    "chain = prompt|llm|output_parser"
   ]
  },
  {
   "cell_type": "code",
   "execution_count": 8,
   "metadata": {},
   "outputs": [],
   "source": [
    "context = \"\"\"\n",
    "**Virat Kohli: The Quintessential Cricketing Maestro**  \n",
    "\n",
    "Virat Kohli, an iconic figure in modern cricket, has redefined the standards of excellence with his unparalleled talent, grit, and determination. Born on November 5, 1988, in Delhi, India, Kohli’s journey from a promising youngster to one of the world's finest cricketers is a tale of perseverance and passion. Known for his aggressive batting style and sharp cricketing acumen, Kohli emerged as a beacon of hope for Indian cricket, inspiring millions with his consistent performances across all formats. His ability to chase daunting targets with ease and his knack for anchoring the innings have made him a cornerstone of Indian cricket.  \n",
    "\n",
    "Kohli’s achievements in international cricket are nothing short of phenomenal. As a batsman, he has shattered numerous records, including being the fastest to score 8,000, 9,000, and 10,000 runs in One-Day Internationals (ODIs). His incredible conversion rate of turning fifties into centuries has often left cricket pundits in awe. Beyond personal milestones, Kohli's leadership as the captain of the Indian cricket team transformed the squad into a formidable force, particularly in Test cricket, where India reached the pinnacle of the ICC Test rankings under his captaincy. His aggressive and passionate demeanor on the field often epitomized the spirit of modern-day Indian cricket.  \n",
    "\n",
    "Off the field, Kohli is equally celebrated for his fitness regime and philanthropic endeavors. A fitness enthusiast, he introduced a culture of athleticism and discipline among his teammates, emphasizing the importance of physical and mental well-being. Kohli’s ventures outside cricket, such as the Virat Kohli Foundation, focus on supporting underprivileged children and budding athletes, showcasing his commitment to giving back to society. His partnerships with numerous brands and business ventures also highlight his multifaceted persona, making him a global sports icon.  \n",
    "\n",
    "Virat Kohli’s journey continues to inspire aspiring cricketers worldwide. With a career marked by records and accolades, he has cemented his place among the all-time greats of the game. Beyond cricket, Kohli embodies the spirit of hard work, resilience, and dedication, proving that success is a result of unwavering focus and perseverance. As he strides forward in his illustrious career, fans and critics alike eagerly anticipate what more this cricketing maestro will achieve in the years to come.  \"\"\""
   ]
  },
  {
   "cell_type": "code",
   "execution_count": 9,
   "metadata": {},
   "outputs": [],
   "source": [
    "question = \"Tell me about Virat Kohali\""
   ]
  },
  {
   "cell_type": "code",
   "execution_count": 11,
   "metadata": {},
   "outputs": [],
   "source": [
    "ans = chain.invoke({\"question\":question,\"context\":context})"
   ]
  },
  {
   "cell_type": "code",
   "execution_count": 12,
   "metadata": {},
   "outputs": [
    {
     "name": "stdout",
     "output_type": "stream",
     "text": [
      "Sure, here's the information you requested about Virat Kohli:\n",
      "\n",
      "Virat Kohli is an iconic figure in modern cricket, known for his unparalleled talent, grit, and determination. He is a leading figure in the Indian cricket team and has shattered numerous records in international One-Day International (ODI) cricket.\n",
      "\n",
      "Beyond his prowess on the field, Kohli is also celebrated for his fitness regime and philanthropic endeavors. He founded the Virat Kohli Foundation, which supports underprivileged children and budding athletes.\n",
      "\n",
      "His career inspires aspiring cricketers worldwide, demonstrating that success is a result of unwavering focus and perseverance.\n"
     ]
    }
   ],
   "source": [
    "print(ans)"
   ]
  },
  {
   "cell_type": "code",
   "execution_count": 13,
   "metadata": {},
   "outputs": [
    {
     "name": "stdout",
     "output_type": "stream",
     "text": [
      "The End\n"
     ]
    }
   ],
   "source": [
    "print(\"The End\")"
   ]
  }
 ],
 "metadata": {
  "kernelspec": {
   "display_name": "Python 3",
   "language": "python",
   "name": "python3"
  },
  "language_info": {
   "codemirror_mode": {
    "name": "ipython",
    "version": 3
   },
   "file_extension": ".py",
   "mimetype": "text/x-python",
   "name": "python",
   "nbconvert_exporter": "python",
   "pygments_lexer": "ipython3",
   "version": "3.11.0"
  }
 },
 "nbformat": 4,
 "nbformat_minor": 2
}
