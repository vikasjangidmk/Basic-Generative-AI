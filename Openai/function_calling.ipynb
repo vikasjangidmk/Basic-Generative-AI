{
 "cells": [
  {
   "cell_type": "markdown",
   "metadata": {},
   "source": [
    "# Function Calling\n",
    "\n",
    "Below is a visual representation of function calling in programming, showcasing:\n",
    "\n",
    "1. **Function Calls**: A main function invoking other functions.\n",
    "2. **Return Values**: How functions return data back to the caller.\n",
    "3. **Call Stack**: Illustration of how the call stack grows and shrinks as functions are called and completed.\n",
    "\n",
    "---\n",
    "\n",
    "### Explanation\n",
    "\n",
    "- **Main Function**: Acts as the starting point of the program.\n",
    "- **Function Calls**: Each arrow represents a call from one function to another.\n",
    "- **Return Flow**: Arrows returning to the caller indicate the completion of a function and returning a value.\n",
    "- **Call Stack**:\n",
    "  - Functions are pushed onto the stack when called.\n",
    "  - They are popped off the stack when execution finishes and control returns to the caller.\n",
    "- **Annotations**: Labels provide clarity on each stage of execution.\n",
    "\n",
    "This diagram helps in understanding how function calls are managed and how the call stack operates during program execution.\n"
   ]
  },
  {
   "cell_type": "code",
   "execution_count": 1,
   "metadata": {},
   "outputs": [],
   "source": [
    "import os\n",
    "import openai\n",
    "from dotenv import load_dotenv"
   ]
  },
  {
   "cell_type": "code",
   "execution_count": 2,
   "metadata": {},
   "outputs": [],
   "source": [
    "load_dotenv()\n",
    "OPENAI_API_KEY = os.getenv(\"OPENAI_API_KEY\")\n",
    "openai.api_key = OPENAI_API_KEY\n"
   ]
  },
  {
   "cell_type": "code",
   "execution_count": 3,
   "metadata": {},
   "outputs": [
    {
     "name": "stdout",
     "output_type": "stream",
     "text": [
      "Hello! I'm just a computer program, so I don't have feelings, but I'm here and ready to help you with anything you need. How can I assist you today?\n"
     ]
    }
   ],
   "source": [
    "prompt = \"Hello, How are you?\"\n",
    "\n",
    "response = openai.ChatCompletion.create(\n",
    "    model = \"gpt-3.5-turbo\",\n",
    "    messages = [\n",
    "        {\"role\": \"system\", \"content\": \"You are a helpful assistant.\"},\n",
    "        {\"role\": \"user\", \"content\": prompt}\n",
    "    ]\n",
    ")\n",
    "\n",
    "print(response[\"choices\"][0][\"message\"][\"content\"])"
   ]
  },
  {
   "cell_type": "code",
   "execution_count": 4,
   "metadata": {},
   "outputs": [],
   "source": [
    "import requests\n",
    "def get_current_weather(location):\n",
    "    \"\"\"Get the current weather in a given location\"\"\"\n",
    "\n",
    "    url = \"https://ai-weather-by-meteosource.p.rapidapi.com/find_places\"\n",
    "\n",
    "    querystring = {\"text\":location}\n",
    "\n",
    "    headers = {\n",
    "      'x-rapidapi-key': \"ce43b21a23msh12a4e17248612f5p128cd7jsn31c565f66b05\",\n",
    "      'x-rapidapi-host': \"ai-weather-by-meteosource.p.rapidapi.com\"\n",
    "    }\n",
    "\n",
    "    response = requests.get(url, headers=headers, params=querystring)\n",
    "\n",
    "    print(response.json())\n",
    "  \n",
    "    return response.json()"
   ]
  },
  {
   "cell_type": "code",
   "execution_count": null,
   "metadata": {},
   "outputs": [
    {
     "name": "stdout",
     "output_type": "stream",
     "text": [
      "[{'name': 'Bengaluru', 'place_id': 'bengaluru', 'adm_area1': 'Karnataka', 'adm_area2': 'Bengaluru Urban', 'country': 'India', 'lat': '12.97194N', 'lon': '77.59369E', 'timezone': 'Asia/Kolkata', 'type': 'settlement'}, {'name': 'Bengaluru Urban', 'place_id': 'bangalore-urban', 'adm_area1': 'Karnataka', 'adm_area2': 'Bengaluru Urban', 'country': 'India', 'lat': '13.0N', 'lon': '77.58333E', 'timezone': 'Asia/Kolkata', 'type': 'administrative_area'}, {'name': 'Yelahanka', 'place_id': 'yelahanka', 'adm_area1': 'Karnataka', 'adm_area2': 'Bengaluru Urban', 'country': 'India', 'lat': '13.10073N', 'lon': '77.59632E', 'timezone': 'Asia/Kolkata', 'type': 'settlement'}, {'name': 'Anekal', 'place_id': 'anekal', 'adm_area1': 'Karnataka', 'adm_area2': 'Bengaluru Urban', 'country': 'India', 'lat': '12.7111N', 'lon': '77.69557E', 'timezone': 'Asia/Kolkata', 'type': 'settlement'}, {'name': 'Devanahalli', 'place_id': 'devanhalli', 'adm_area1': 'Karnataka', 'adm_area2': 'Bengaluru Rural', 'country': 'India', 'lat': '13.24655N', 'lon': '77.71183E', 'timezone': 'Asia/Kolkata', 'type': 'settlement'}, {'name': 'Dod Ballāpur', 'place_id': 'dod-ballapur', 'adm_area1': 'Karnataka', 'adm_area2': 'Bengaluru Rural', 'country': 'India', 'lat': '13.29452N', 'lon': '77.53777E', 'timezone': 'Asia/Kolkata', 'type': 'settlement'}, {'name': 'Hoskote', 'place_id': 'hoskote', 'adm_area1': 'Karnataka', 'adm_area2': 'Bengaluru Rural', 'country': 'India', 'lat': '13.0707N', 'lon': '77.79814E', 'timezone': 'Asia/Kolkata', 'type': 'settlement'}, {'name': 'Vadigenhalli', 'place_id': 'vadigenhalli', 'adm_area1': 'Karnataka', 'adm_area2': 'Bengaluru Rural', 'country': 'India', 'lat': '13.29724N', 'lon': '77.80184E', 'timezone': 'Asia/Kolkata', 'type': 'settlement'}, {'name': 'Nelamangala', 'place_id': 'nelamangala', 'adm_area1': 'Karnataka', 'adm_area2': 'Bengaluru Rural', 'country': 'India', 'lat': '13.09978N', 'lon': '77.39364E', 'timezone': 'Asia/Kolkata', 'type': 'settlement'}, {'name': 'Bengaluru Rural', 'place_id': 'bangalore-rural', 'adm_area1': 'Karnataka', 'adm_area2': 'Bengaluru Rural', 'country': 'India', 'lat': '13.22567N', 'lon': '77.57501E', 'timezone': 'Asia/Kolkata', 'type': 'administrative_area'}]\n"
     ]
    }
   ],
   "source": [
    "#response=get_current_weather(\"bangalore\")"
   ]
  },
  {
   "cell_type": "code",
   "execution_count": 19,
   "metadata": {},
   "outputs": [],
   "source": [
    "functions = [\n",
    "        {\n",
    "            \"name\": \"get_current_weather\",\n",
    "            \"description\": \"Get the current weather in a given location\",\n",
    "            \"parameters\": {\n",
    "                \"type\": \"object\",\n",
    "                \"properties\": {\n",
    "                    \"location\": {\n",
    "                        \"type\": \"string\",\n",
    "                        \"description\": \"The city and state, e.g. San Francisco, CA\",\n",
    "                    },\n",
    "                    \n",
    "                },\n",
    "                \"required\": [\"location\"],\n",
    "            },\n",
    "        }\n",
    "    ]"
   ]
  },
  {
   "cell_type": "code",
   "execution_count": 6,
   "metadata": {},
   "outputs": [],
   "source": [
    "\n",
    "\n",
    "user_message=\"Hi There\"\n",
    "messages=[]\n",
    "messages.append({\"role\": \"user\", \"content\":user_message})\n",
    "\n",
    "completion=openai.ChatCompletion.create(\n",
    "    model=\"gpt-3.5-turbo\",\n",
    "    messages= messages\n",
    "    \n",
    ")"
   ]
  },
  {
   "cell_type": "code",
   "execution_count": 7,
   "metadata": {},
   "outputs": [
    {
     "data": {
      "text/plain": [
       "<OpenAIObject at 0x211c986d310> JSON: {\n",
       "  \"role\": \"assistant\",\n",
       "  \"content\": \"Hello! How can I assist you today?\",\n",
       "  \"refusal\": null\n",
       "}"
      ]
     },
     "execution_count": 7,
     "metadata": {},
     "output_type": "execute_result"
    }
   ],
   "source": [
    "completion.choices[0].message"
   ]
  },
  {
   "cell_type": "code",
   "execution_count": 8,
   "metadata": {},
   "outputs": [
    {
     "data": {
      "text/plain": [
       "[{'role': 'user', 'content': 'Hi There'}]"
      ]
     },
     "execution_count": 8,
     "metadata": {},
     "output_type": "execute_result"
    }
   ],
   "source": [
    "messages"
   ]
  },
  {
   "cell_type": "code",
   "execution_count": 20,
   "metadata": {},
   "outputs": [],
   "source": [
    "user_message=\"What is the temperature of Bangalore\"\n",
    "\n",
    "messages.append({\"role\": \"user\", \"content\": user_message})\n",
    "\n",
    "completion=openai.ChatCompletion.create(\n",
    "    model=\"gpt-3.5-turbo\",\n",
    "    messages=messages,\n",
    "    functions=functions\n",
    "    \n",
    ")"
   ]
  },
  {
   "cell_type": "code",
   "execution_count": 21,
   "metadata": {},
   "outputs": [
    {
     "name": "stdout",
     "output_type": "stream",
     "text": [
      "{\n",
      "  \"role\": \"assistant\",\n",
      "  \"content\": null,\n",
      "  \"function_call\": {\n",
      "    \"name\": \"get_current_weather\",\n",
      "    \"arguments\": \"{\\\"location\\\":\\\"Bangalore\\\"}\"\n",
      "  },\n",
      "  \"refusal\": null\n",
      "}\n"
     ]
    }
   ],
   "source": [
    "print(completion.choices[0].message)"
   ]
  },
  {
   "cell_type": "code",
   "execution_count": 22,
   "metadata": {},
   "outputs": [],
   "source": [
    "response=completion.choices[0].message"
   ]
  },
  {
   "cell_type": "code",
   "execution_count": 23,
   "metadata": {},
   "outputs": [
    {
     "data": {
      "text/plain": [
       "<OpenAIObject at 0x211cb04a4b0> JSON: {\n",
       "  \"role\": \"assistant\",\n",
       "  \"content\": null,\n",
       "  \"function_call\": {\n",
       "    \"name\": \"get_current_weather\",\n",
       "    \"arguments\": \"{\\\"location\\\":\\\"Bangalore\\\"}\"\n",
       "  },\n",
       "  \"refusal\": null\n",
       "}"
      ]
     },
     "execution_count": 23,
     "metadata": {},
     "output_type": "execute_result"
    }
   ],
   "source": [
    "response"
   ]
  },
  {
   "cell_type": "code",
   "execution_count": 24,
   "metadata": {},
   "outputs": [
    {
     "name": "stdout",
     "output_type": "stream",
     "text": [
      "get_current_weather\n"
     ]
    }
   ],
   "source": [
    "function_name=response['function_call']['name']\n",
    "print(function_name)\n"
   ]
  },
  {
   "cell_type": "code",
   "execution_count": 25,
   "metadata": {},
   "outputs": [
    {
     "name": "stdout",
     "output_type": "stream",
     "text": [
      "Bangalore\n"
     ]
    }
   ],
   "source": [
    "import json\n",
    "location=eval(response['function_call']['arguments'])['location']\n",
    "print(location)"
   ]
  },
  {
   "cell_type": "code",
   "execution_count": 26,
   "metadata": {},
   "outputs": [],
   "source": [
    "messages.append(response)  # extend conversation with assistant's reply\n",
    "messages.append(\n",
    "    {\n",
    "        \"role\": \"function\",\n",
    "        \"name\": function_name,\n",
    "        \"content\": location,\n",
    "    }\n",
    ")"
   ]
  },
  {
   "cell_type": "code",
   "execution_count": 27,
   "metadata": {},
   "outputs": [
    {
     "data": {
      "text/plain": [
       "[{'role': 'user', 'content': 'Hi There'},\n",
       " {'role': 'user', 'content': 'What is the temperature of Bangalore'},\n",
       " {'role': 'user', 'content': 'What is the temperature of Bangalore'},\n",
       " <OpenAIObject at 0x211cb04a4b0> JSON: {\n",
       "   \"role\": \"assistant\",\n",
       "   \"content\": null,\n",
       "   \"function_call\": {\n",
       "     \"name\": \"get_current_weather\",\n",
       "     \"arguments\": \"{\\\"location\\\":\\\"Bangalore\\\"}\"\n",
       "   },\n",
       "   \"refusal\": null\n",
       " },\n",
       " {'role': 'function', 'name': 'get_current_weather', 'content': 'Bangalore'}]"
      ]
     },
     "execution_count": 27,
     "metadata": {},
     "output_type": "execute_result"
    }
   ],
   "source": [
    "messages"
   ]
  },
  {
   "cell_type": "code",
   "execution_count": 28,
   "metadata": {},
   "outputs": [],
   "source": [
    "# extend conversation with function response\n",
    "second_response = openai.ChatCompletion.create(\n",
    "    model=\"gpt-3.5-turbo\",\n",
    "    messages=messages,\n",
    "    functions=functions\n",
    ")  # get a new response from GPT where it can see the function response\n"
   ]
  },
  {
   "cell_type": "code",
   "execution_count": 29,
   "metadata": {},
   "outputs": [
    {
     "name": "stdout",
     "output_type": "stream",
     "text": [
      "{\n",
      "  \"role\": \"assistant\",\n",
      "  \"content\": \"The current temperature in Bangalore is 28\\u00b0C.\",\n",
      "  \"refusal\": null\n",
      "}\n"
     ]
    }
   ],
   "source": [
    "print(second_response.choices[0].message)"
   ]
  },
  {
   "cell_type": "code",
   "execution_count": 30,
   "metadata": {},
   "outputs": [
    {
     "name": "stdout",
     "output_type": "stream",
     "text": [
      "The End\n"
     ]
    }
   ],
   "source": [
    "print(\"The End\")"
   ]
  }
 ],
 "metadata": {
  "kernelspec": {
   "display_name": "Python 3",
   "language": "python",
   "name": "python3"
  },
  "language_info": {
   "codemirror_mode": {
    "name": "ipython",
    "version": 3
   },
   "file_extension": ".py",
   "mimetype": "text/x-python",
   "name": "python",
   "nbconvert_exporter": "python",
   "pygments_lexer": "ipython3",
   "version": "3.11.0"
  }
 },
 "nbformat": 4,
 "nbformat_minor": 2
}
