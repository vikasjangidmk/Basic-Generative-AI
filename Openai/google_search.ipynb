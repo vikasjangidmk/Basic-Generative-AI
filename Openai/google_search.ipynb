{
 "cells": [
  {
   "cell_type": "code",
   "execution_count": 1,
   "metadata": {},
   "outputs": [
    {
     "data": {
      "text/plain": [
       "True"
      ]
     },
     "execution_count": 1,
     "metadata": {},
     "output_type": "execute_result"
    }
   ],
   "source": [
    "from langchain.agents import load_tools\n",
    "from langchain.agents import initialize_agent\n",
    "from langchain.llms import OpenAI\n",
    "import os\n",
    "from dotenv import load_dotenv\n",
    "load_dotenv()"
   ]
  },
  {
   "cell_type": "code",
   "execution_count": 4,
   "metadata": {},
   "outputs": [],
   "source": [
    "serpapi_api_key = os.getenv(\"SERP_API_KEY\")\n",
    "api_key = os.getenv(\"OPENAI_API_KEY\")"
   ]
  },
  {
   "cell_type": "code",
   "execution_count": 5,
   "metadata": {},
   "outputs": [
    {
     "name": "stderr",
     "output_type": "stream",
     "text": [
      "C:\\Users\\vikas\\AppData\\Local\\Temp\\ipykernel_29392\\3428954899.py:1: LangChainDeprecationWarning: The class `OpenAI` was deprecated in LangChain 0.0.10 and will be removed in 1.0. An updated version of the class exists in the :class:`~langchain-openai package and should be used instead. To use it run `pip install -U :class:`~langchain-openai` and import as `from :class:`~langchain_openai import OpenAI``.\n",
      "  model= OpenAI(openai_api_key=api_key,temperature=0.8)\n"
     ]
    }
   ],
   "source": [
    "model= OpenAI(openai_api_key=api_key,temperature=0.8)"
   ]
  },
  {
   "cell_type": "code",
   "execution_count": 7,
   "metadata": {},
   "outputs": [],
   "source": [
    "toolkit = load_tools([\"serpapi\"],llm=model,serpapi_api_key=serpapi_api_key)"
   ]
  },
  {
   "cell_type": "code",
   "execution_count": 8,
   "metadata": {},
   "outputs": [
    {
     "name": "stderr",
     "output_type": "stream",
     "text": [
      "C:\\Users\\vikas\\AppData\\Local\\Temp\\ipykernel_29392\\3497362601.py:1: LangChainDeprecationWarning: LangChain agents will continue to be supported, but it is recommended for new use cases to be built with LangGraph. LangGraph offers a more flexible and full-featured framework for building agents, including support for tool-calling, persistence of state, and human-in-the-loop workflows. See LangGraph documentation for more details: https://langchain-ai.github.io/langgraph/. Refer here for its pre-built ReAct agent: https://langchain-ai.github.io/langgraph/how-tos/create-react-agent/\n",
      "  agent = initialize_agent(toolkit, model, agent=\"zero-shot-react-description\",verbose=True,return_intermediate_steps=True)\n"
     ]
    }
   ],
   "source": [
    "agent = initialize_agent(toolkit, model, agent=\"zero-shot-react-description\",verbose=True,return_intermediate_steps=True)"
   ]
  },
  {
   "cell_type": "code",
   "execution_count": 10,
   "metadata": {},
   "outputs": [
    {
     "name": "stdout",
     "output_type": "stream",
     "text": [
      "\n",
      "\n",
      "\u001b[1m> Entering new AgentExecutor chain...\u001b[0m\n",
      "\u001b[32;1m\u001b[1;3m Hmm, I should probably search for this information\n",
      "Action: Search\n",
      "Action Input: \"Purple cap holder 2024\"\u001b[0m\n",
      "Observation: \u001b[36;1m\u001b[1;3mHarshal Patel\u001b[0m\n",
      "Thought:\u001b[32;1m\u001b[1;3m Okay, but I should double check to make sure this is accurate\n",
      "Action: Search\n",
      "Action Input: \"Purple cap holder IPL 2024\"\u001b[0m\n",
      "Observation: \u001b[36;1m\u001b[1;3mHarshal Patel\u001b[0m\n",
      "Thought:\u001b[32;1m\u001b[1;3m Okay, it seems like he is the correct answer. I should also check if there is any additional information about him.\n",
      "Action: Search\n",
      "Action Input: \"Who is Harshal Patel?\"\u001b[0m\n",
      "Observation: \u001b[36;1m\u001b[1;3m{'title': 'Harshal Patel', 'team': 'Indian cricketer', 'tables': [{'games': [{'title': 'T20IT20I2021–232021–23', 'm': '25', 'inn': '24', 'b': '503', 'mdn': '0', 'runs': '770', 'w': '29', 'bb': '4/25', 'econ': '9.18', 'avg': '26.6', 'sr': '17.3', '4_w': '1', '5_w': '0'}, {'title': 'IPLIPL2012–2012–', 'm': '106', 'inn': '103', 'b': '2161', 'mdn': '2', 'runs': '3149', 'w': '135', 'bb': '5/27', 'econ': '8.74', 'avg': '23.3', 'sr': '16.0', '4_w': '2', '5_w': '1'}, {'title': '1st class1st class2011–2011–', 'm': '74', 'inn': '130', 'b': '11455', 'mdn': '390', 'runs': '5911', 'w': '246', 'bb': '8/34', 'econ': '3.09', 'avg': '24.0', 'sr': '46.6', '4_w': '13', '5_w': '12'}, {'title': 'List AList A2009–2009–', 'm': '73', 'inn': '72', 'b': '3080', 'mdn': '18', 'runs': '2776', 'w': '104', 'bb': '5/21', 'econ': '5.40', 'avg': '26.7', 'sr': '29.6', '4_w': '2', '5_w': '2'}, {'title': 'T20T202011–2011–', 'm': '199', 'inn': '194', 'b': '4061', 'mdn': '5', 'runs': '5647', 'w': '244', 'bb': '5/12', 'econ': '8.34', 'avg': '23.1', 'sr': '16.6', '4_w': '3', '5_w': '2'}]}]}\u001b[0m\n",
      "Thought:\u001b[32;1m\u001b[1;3m It looks like he is a successful Indian cricketer and has performed well in various cricket leagues.\n",
      "Final Answer: Harshal Patel is the purple cap holder of 2024 and is a successful Indian cricketer who has performed well in various cricket leagues.\u001b[0m\n",
      "\n",
      "\u001b[1m> Finished chain.\u001b[0m\n"
     ]
    }
   ],
   "source": [
    "response = agent({\"input\":\"Who is purple cap holder of 2024\"})"
   ]
  },
  {
   "cell_type": "code",
   "execution_count": 11,
   "metadata": {},
   "outputs": [
    {
     "name": "stdout",
     "output_type": "stream",
     "text": [
      "The End\n"
     ]
    }
   ],
   "source": [
    "print(\"The End\")"
   ]
  }
 ],
 "metadata": {
  "kernelspec": {
   "display_name": "Python 3",
   "language": "python",
   "name": "python3"
  },
  "language_info": {
   "codemirror_mode": {
    "name": "ipython",
    "version": 3
   },
   "file_extension": ".py",
   "mimetype": "text/x-python",
   "name": "python",
   "nbconvert_exporter": "python",
   "pygments_lexer": "ipython3",
   "version": "3.11.0"
  }
 },
 "nbformat": 4,
 "nbformat_minor": 2
}
