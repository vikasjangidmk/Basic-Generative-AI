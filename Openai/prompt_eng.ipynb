{
 "cells": [
  {
   "cell_type": "code",
   "execution_count": 1,
   "metadata": {},
   "outputs": [
    {
     "name": "stdout",
     "output_type": "stream",
     "text": [
      "API key loaded successfully\n"
     ]
    }
   ],
   "source": [
    "import os\n",
    "from dotenv import load_dotenv\n",
    "\n",
    "\n",
    "\n",
    "OPENAI_API_KEY = os.getenv(\"OPENAI_API_KEY\")\n",
    "\n",
    "if OPENAI_API_KEY:\n",
    "    print(\"API key loaded successfully\")\n",
    "else:\n",
    "    print(\"Failed to load API key\")\n"
   ]
  },
  {
   "cell_type": "code",
   "execution_count": 3,
   "metadata": {},
   "outputs": [],
   "source": [
    "import openai\n",
    "\n",
    "def get_completion(prompt,model=\"gpt-3.5-turbo\"):\n",
    "    messages = [{\"role\": \"user\", \"content\": prompt}]\n",
    "    response = openai.ChatCompletion.create(\n",
    "    model=model,\n",
    "    messages=messages,\n",
    "    temperature=0,\n",
    "    max_tokens=25,\n",
    "    \n",
    "    )\n",
    "\n",
    "    return response.choices[0].message[\"content\"]"
   ]
  },
  {
   "cell_type": "code",
   "execution_count": 4,
   "metadata": {},
   "outputs": [
    {
     "name": "stdout",
     "output_type": "stream",
     "text": [
      "1. Provide clear and specific instructions to guide the model towards the desired output.\n",
      "2. Avoid confusion by writing a detailed prompt\n"
     ]
    }
   ],
   "source": [
    "text = f\"\"\"\n",
    "You should express what you want a model to do by \\\n",
    "providing instructions that are as clear and \\\n",
    "specific as you can possibly make them. \\\n",
    "This will guide the model towards the desired output, \\\n",
    "and reduce the chances of receiving irrelevant \\\n",
    "or incorrect responses. Don't confuse writing a \\\n",
    "clear prompt with writing a short prompt. \\\n",
    "In many cases, longer prompts provide more clarity \\\n",
    "and context for the moyel, which can lead to\n",
    "more detailed and releant outputs.\n",
    "\"\"\"\n",
    "\n",
    "prompt = f\"\"\"\n",
    "give it in point wise manner  and also give the number to point the text delimited by triple dash \\\n",
    "\n",
    "---{text}---\n",
    "\n",
    "\"\"\"\n",
    "\n",
    "\n",
    "response = get_completion(prompt)\n",
    "print(response)"
   ]
  },
  {
   "cell_type": "code",
   "execution_count": 5,
   "metadata": {},
   "outputs": [
    {
     "name": "stdout",
     "output_type": "stream",
     "text": [
      "{\n",
      "  \"books\": [\n",
      "    {\n",
      "      \"Book Title\": \"The Midnight Garden\",\n",
      "      \"Author\": \"Elena\n"
     ]
    }
   ],
   "source": [
    "prompt =f\"\"\"\n",
    "Generate a list of three made-up book titles along \\\n",
    "with their authors and genres form you side \\\n",
    "Provide them in JSON format with the following keys:\n",
    "\n",
    "Book Title\n",
    "Author\n",
    "Genre   \n",
    "\n",
    "\n",
    "\"\"\"\n",
    "\n",
    "\n",
    "\n",
    "response = get_completion(prompt)\n",
    "print(response)"
   ]
  },
  {
   "cell_type": "code",
   "execution_count": 6,
   "metadata": {},
   "outputs": [
    {
     "name": "stdout",
     "output_type": "stream",
     "text": [
      "No steps provided.\n"
     ]
    }
   ],
   "source": [
    "text_1 = f\"\"\"\n",
    "\n",
    "In the heart of a bustling metropolis, there lived a young man named Alex. Unbeknownst to the world, Alex possessed extraordinary abilities. He could move objects with his mind, run at incredible speeds, and even soar through the skies with nothing but his willpower.\n",
    "\n",
    "Despite his incredible powers, Alex lived a humble life, working as a librarian by day and using his abilities to help those in need under the cover of darkness. He believed that with great power came great responsibility, a motto instilled in him by his late parents who had also possessed similar abilities.\n",
    "\n",
    "One fateful night, as Alex patrolled the city streets, he heard the desperate cries of a woman in distress. Racing to the scene, he found a group of thugs harassing her. With lightning speed, Alex intervened, effortlessly disarming the assailants and ensuring the woman's safety.\n",
    "\n",
    "\n",
    "\"\"\"\n",
    "\n",
    "prompt = f\"\"\"\n",
    "You will be provided with text delimited by triple quotes.\n",
    "\n",
    "If it contains a sequence of instructions, \\\n",
    "re-write those instructions in the following format:\n",
    "Step 1 - ...\n",
    "Step 2 - ...\n",
    "Step N - ..\n",
    "If the text does not contain a sequence of instructions,\\\n",
    "then simply write \\\"No steps provided.\n",
    " ```{text_1}```\n",
    "\n",
    "\"\"\"\n",
    "\n",
    "\n",
    "response = get_completion(prompt)\n",
    "print(response)"
   ]
  },
  {
   "cell_type": "code",
   "execution_count": 7,
   "metadata": {},
   "outputs": [
    {
     "name": "stdout",
     "output_type": "stream",
     "text": [
      "1 - Lily and James, two adventurous friends, discover a hidden cottage in the woods, embark on a quest, and find\n"
     ]
    }
   ],
   "source": [
    "text = f\"\"\"\n",
    "\n",
    "\n",
    "In a cozy village nestled between rolling hills, Lily and James, two adventurous friends, stumbled upon a hidden cottage tucked away in the woods. Intrigued by its mystery, they embarked on a quest, braving forests and scaling mountains. At last, atop a hill, they unearthed a treasure chest. Inside, amidst gleaming riches, they found the true treasure—their unbreakable bond, forged through shared adventures and endless laughter.\n",
    "\"\"\"\n",
    "\n",
    "\n",
    "prompt_1 = f\"\"\"\n",
    "Perform the following actions:\n",
    "\n",
    "1 - Summarize the following text delimited by triple \\\n",
    "backticks with 1 sentence.\n",
    "2 - Translate the summary into Hinglish.\n",
    "3 - List each nime in the hindi summary.\n",
    "4 - Output a json object that contains the following \\\n",
    "\n",
    "keys: hindi_summary, num_names.\n",
    "\n",
    "Separate your answers with line breaks.\n",
    "Text:```{text}```.\n",
    "\"\"\"\n",
    "\n",
    "response = get_completion(prompt_1)\n",
    "print(response)"
   ]
  },
  {
   "cell_type": "code",
   "execution_count": 8,
   "metadata": {},
   "outputs": [
    {
     "name": "stdout",
     "output_type": "stream",
     "text": [
      "Vivo is a Chinese smartphone manufacturer known for producing high-quality devices with innovative features. The Vivo smartphones are known for their sleek\n"
     ]
    }
   ],
   "source": [
    "prompt = f\"\"\"\n",
    "\n",
    " give me detail description about the  vivo smart phone in english\n",
    "\"\"\"\n",
    "response = get_completion(prompt)\n",
    "print (response)"
   ]
  },
  {
   "cell_type": "code",
   "execution_count": 9,
   "metadata": {},
   "outputs": [
    {
     "name": "stdout",
     "output_type": "stream",
     "text": [
      "I'm sorry, but I couldn't find any information about the Weiiqaeilnsoewseneo smart phone\n"
     ]
    }
   ],
   "source": [
    "prompt = f\"\"\"\n",
    "\n",
    " give me detail secription about theWeiiqaeilnsoewseneo  smart phone in english ?\n",
    "\n",
    " give only if you find out infomartion about it otherwise give me nothing like this exist \n",
    "\n",
    "\"\"\"\n",
    "response = get_completion(prompt)\n",
    "print (response)"
   ]
  },
  {
   "cell_type": "code",
   "execution_count": 10,
   "metadata": {},
   "outputs": [],
   "source": [
    "fact_sheet_table = \"\"\"\n",
    "OVERVIEW\n",
    "\n",
    "Part of a stylish collection of contemporary office furniture,\n",
    "featuring desks, storage units, chairs, and accessories.\n",
    "Available in various sizes and configurations to suit different needs.\n",
    "Options include different finishes and materials for tabletop and legs.\n",
    "Suitable for both home offices and commercial workspaces.\n",
    "Designed for durability and functionality.\n",
    "CONSTRUCTION\n",
    "\n",
    "Sturdy steel frame with powder-coated finish for stability and longevity.\n",
    "Tabletop available in high-quality laminate or solid wood options.\n",
    "DIMENSIONS\n",
    "\n",
    "WIDTH 120 CM | 47.24”\n",
    "DEPTH 60 CM | 23.62”\n",
    "HEIGHT 75 CM | 29.53”\n",
    "OPTIONS\n",
    "\n",
    "Choice of tabletop finishes: walnut laminate, oak laminate, or solid wood.\n",
    "Legs available in matte black, brushed steel, or chrome finishes.\n",
    "Optional cable management solutions for a clutter-free workspace.\n",
    "MATERIALS\n",
    "TABLETOP\n",
    "\n",
    "High-pressure laminate or solid wood options.\n",
    "Scratch-resistant and easy to clean for long-lasting use.\n",
    "\n",
    "FRAME\n",
    "Steel frame with powder-coated finish for durability and stability.\n",
    "\n",
    "COUNTRY OF ORIGIN\n",
    "Designed and manufactured in Denmark.\n",
    "\n",
    "\"\"\""
   ]
  },
  {
   "cell_type": "code",
   "execution_count": 11,
   "metadata": {},
   "outputs": [
    {
     "name": "stdout",
     "output_type": "stream",
     "text": [
      "- Contemporary office furniture collection with desks, storage, chairs, and accessories.\n",
      "- Various sizes and finishes available for customization.\n",
      "-\n"
     ]
    }
   ],
   "source": [
    "prompt = f\"\"\"\n",
    "Your task is to help a marketing team create a \n",
    "description for a retail website of a product based \n",
    "on a technical fact sheet.in a point wise manner \n",
    "\n",
    "Write a product description based on the information \n",
    "provided in the technical specifications delimited by \n",
    "triple backticks.\n",
    "\n",
    "use atmost 50 words only\n",
    "\n",
    "At the end of the description, include every 7-character \n",
    "Product ID in the technical specification.give in a tabular format\n",
    "\n",
    "\n",
    "\n",
    "\n",
    "Technical specifications: ```{fact_sheet_table}```\n",
    "\"\"\"\n",
    "response = get_completion(prompt)\n",
    "print(response)"
   ]
  },
  {
   "cell_type": "code",
   "execution_count": 12,
   "metadata": {},
   "outputs": [
    {
     "name": "stdout",
     "output_type": "stream",
     "text": [
      "Great smartphone with sleek design, vibrant display, impressive camera, and early delivery, but battery life could be better.\n"
     ]
    }
   ],
   "source": [
    "prod_review = \"\"\"\n",
    "Bought this new smartphone for my wife's birthday, and she's thrilled with it! The sleek design and vibrant display make it a standout choice. The camera quality is impressive, capturing stunning photos and videos. However, the battery life could be better for the price point. Despite that, it arrived earlier than expected, allowing me to set it up with her favorite apps before surprising her. Overall, a great purchase that brings joy to my wife's everyday life.\n",
    "\"\"\"\n",
    "\n",
    "prompt = f\"\"\"\n",
    "Your task is to generate a short summary of a product \\\n",
    "review from an ecommerce site. \n",
    "\n",
    "Summarize the review below, delimited by triple \n",
    "backticks, in at most 20 words. \n",
    "\n",
    "Review: ```{prod_review}```\n",
    "\"\"\"\n",
    "\n",
    "response = get_completion(prompt)\n",
    "print(response) "
   ]
  },
  {
   "cell_type": "code",
   "execution_count": 13,
   "metadata": {},
   "outputs": [
    {
     "name": "stdout",
     "output_type": "stream",
     "text": [
      "2 Great wireless earphones with impressive sound quality, comfortable fit, and quick shipping. Highly satisfied with purchase. \n",
      "\n"
     ]
    }
   ],
   "source": [
    "review_5 = \"\"\"\n",
    "Purchased this new smartphone cover for my device, and I'm delighted with its quality! The design is sleek, providing excellent protection without adding bulk. The shipping was swift, arriving within two days of ordering. Overall, highly recommended!\n",
    "\"\"\"\n",
    "\n",
    "review_6 = \"\"\"\n",
    "Bought this stylish back cover for my smartphone, and it exceeded my expectations! The matte finish feels premium, and the snug fit offers excellent protection. Shipping was fast, arriving within two days. Couldn't be happier with my purchase!\n",
    "\"\"\"\n",
    "\n",
    "review_7 = \"\"\"\n",
    "Recently acquired these wireless earphones, and they're fantastic! The sound quality is impressive, delivering crisp highs and deep bass. The ergonomic design ensures a comfortable fit for extended wear. Shipping was quick, arriving within two days. Highly satisfied!\n",
    "\"\"\"\n",
    "\n",
    "reviews = [ review_5, review_6, review_7]\n",
    "\n",
    "for i in range(len(reviews)):\n",
    "    prompt = f\"\"\"\n",
    "    Your task is to generate a short summary  \\ \n",
    "    review from an ecommerce site. \n",
    "\n",
    "    Summarize the review below, delimited by triple \\\n",
    "    backticks in at most 20 words. \n",
    "\n",
    "    Review: ```{reviews[i]}```\n",
    "    \"\"\"\n",
    "response = get_completion(prompt)\n",
    "print(i,response ,\"\\n\")"
   ]
  },
  {
   "cell_type": "code",
   "execution_count": 14,
   "metadata": {},
   "outputs": [
    {
     "name": "stdout",
     "output_type": "stream",
     "text": [
      "1. ISRO (Indian Space Research Organisation)\n",
      "2. Space exploration (space technology)\n",
      "3. Innovation (scientific excellence)\n",
      "\n"
     ]
    }
   ],
   "source": [
    "story = \"\"\"\n",
    "The Indian Space Research Organisation (ISRO) stands as a beacon of scientific excellence and innovation, spearheading India's remarkable advancements in space exploration and technology. Established in 1969, ISRO has consistently achieved remarkable milestones, including the successful launch of satellites, lunar missions, and interplanetary explorations. With a mission to harness space technology for national development and societal benefits, ISRO has significantly contributed to telecommunication, weather forecasting, disaster management, and navigation systems. Its endeavors, such as the Mars Orbiter Mission (Mangalyaan) and the Chandrayaan missions, have garnered international acclaim, showcasing India's prowess in space exploration on a global stage.\n",
    "\"\"\"\n",
    "\n",
    "\n",
    "prompt = f\"\"\"\n",
    "Determine five topics that are being discussed in the \\\n",
    "following text, which is delimited by triple backticks.\n",
    "\n",
    "Make each item one or two words long. and also provide the synoymous thse word\n",
    "\n",
    "Format your response as a list of items separated by commas.\n",
    "\n",
    "Text sample: '''{story}'''\n",
    "\"\"\"\n",
    "response = get_completion(prompt)\n",
    "print(response)"
   ]
  },
  {
   "cell_type": "code",
   "execution_count": 15,
   "metadata": {},
   "outputs": [
    {
     "name": "stdout",
     "output_type": "stream",
     "text": [
      "| name  | email                 | उम्र |\n",
      "|-------|-----------------------|------|\n",
      "| Shyam |\n"
     ]
    }
   ],
   "source": [
    "data_json = { \"resturant_employees\" :[\n",
    "{\"name\":\"Shyam\", \"email\":\"shyamjaiswal@gmail.com\", \"उम्र\": \"25\"},\n",
    "{\"name\":\"Bob\", \"email\":\"bob32@gmail.com\", \"उम्र\": \"28\"},\n",
    "{\"name\":\"Jai\", \"email\":\"jai87@gmail.com\", \"उम्र\": \"30\"}\n",
    "]}\n",
    "\n",
    "prompt = f\"\"\"\n",
    "Translate the following python dictionary from JSON  in tablualr format\n",
    "table with column headers and title: {data_json}\n",
    "\"\"\"\n",
    "response = get_completion(prompt)\n",
    "print(response)  "
   ]
  },
  {
   "cell_type": "code",
   "execution_count": 16,
   "metadata": {},
   "outputs": [
    {
     "name": "stdout",
     "output_type": "stream",
     "text": [
      "The End\n"
     ]
    }
   ],
   "source": [
    "print(\"The End\")"
   ]
  }
 ],
 "metadata": {
  "kernelspec": {
   "display_name": "Python 3",
   "language": "python",
   "name": "python3"
  },
  "language_info": {
   "codemirror_mode": {
    "name": "ipython",
    "version": 3
   },
   "file_extension": ".py",
   "mimetype": "text/x-python",
   "name": "python",
   "nbconvert_exporter": "python",
   "pygments_lexer": "ipython3",
   "version": "3.11.0"
  }
 },
 "nbformat": 4,
 "nbformat_minor": 2
}
